{
 "cells": [
  {
   "cell_type": "code",
   "execution_count": 8,
   "metadata": {},
   "outputs": [],
   "source": [
    "nums = [2,0,2,1,1,0]\n",
    "\n"
   ]
  },
  {
   "cell_type": "code",
   "execution_count": 9,
   "metadata": {},
   "outputs": [
    {
     "name": "stdout",
     "output_type": "stream",
     "text": [
      "[2, 0, 2, 1, 1, 0]\n",
      "[2, 2, 2, 1, 1, 0]\n",
      "[0, 2, 2, 1, 1, 0]\n",
      "[0, 2, 2, 1, 1, 0]\n",
      "[0, 2, 2, 1, 1, 0]\n",
      "[0, 2, 2, 2, 1, 0]\n",
      "[0, 2, 2, 2, 1, 0]\n",
      "[0, 2, 2, 2, 1, 0]\n",
      "[0, 1, 2, 2, 1, 0]\n",
      "[0, 1, 2, 2, 1, 0]\n",
      "[0, 1, 2, 2, 2, 0]\n",
      "[0, 1, 2, 2, 2, 0]\n",
      "[0, 1, 2, 2, 2, 0]\n",
      "[0, 1, 1, 2, 2, 0]\n",
      "[0, 1, 1, 2, 2, 0]\n",
      "[0, 1, 1, 2, 2, 2]\n",
      "[0, 1, 1, 2, 2, 2]\n",
      "[0, 1, 1, 2, 2, 2]\n",
      "[0, 1, 1, 2, 2, 2]\n",
      "[0, 1, 1, 1, 2, 2]\n",
      "[0, 1, 1, 1, 2, 2]\n",
      "[0, 1, 1, 1, 2, 2]\n",
      "[0, 0, 1, 1, 2, 2]\n"
     ]
    }
   ],
   "source": [
    "for i in range(1, len(nums)):\n",
    "    key = nums[i]\n",
    "    j = i-1\n",
    "    while j>=0  and key < nums[j]:\n",
    "        print(nums)\n",
    "        nums[j+1] = nums[j]\n",
    "        print(nums)\n",
    "        j -= 1\n",
    "    nums[j+1]=key\n",
    "    print(nums)\n",
    "        "
   ]
  }
 ],
 "metadata": {
  "file_extension": ".py",
  "kernelspec": {
   "display_name": "Python 3",
   "language": "python",
   "name": "python3"
  },
  "language_info": {
   "codemirror_mode": {
    "name": "ipython",
    "version": 3
   },
   "file_extension": ".py",
   "mimetype": "text/x-python",
   "name": "python",
   "nbconvert_exporter": "python",
   "pygments_lexer": "ipython3",
   "version": "3.9.13"
  },
  "mimetype": "text/x-python",
  "name": "python",
  "npconvert_exporter": "python",
  "orig_nbformat": 2,
  "pygments_lexer": "ipython3",
  "version": 3
 },
 "nbformat": 4,
 "nbformat_minor": 2
}
